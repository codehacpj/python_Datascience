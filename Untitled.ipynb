{
 "cells": [
  {
   "cell_type": "markdown",
   "metadata": {},
   "source": [
    "## Data Science Handbook\n"
   ]
  },
  {
   "cell_type": "markdown",
   "metadata": {},
   "source": [
    "NumPy for manipulation of homogeneous array-\n",
    "based data, <br/>\n",
    "Pandas for manipulation of heterogeneous and labeled data,<br/>\n",
    "SciPy for common scientific computing tasks, <br/>\n",
    "Matplotlib for publication-quality visualizations,<br/>\n",
    "IPython for interactive execution and sharing of code,<br/>\n",
    "Scikit-Learn for machine learning, and many more tools that will be mentioned in the following pages.<br/>"
   ]
  },
  {
   "cell_type": "markdown",
   "metadata": {},
   "source": [
    "### Chap 2  Numpy\n",
    "images—particularly digital images—can be thought of as simply two-\n",
    "dimensional arrays of numbers representing pixel brightness across the area.<br/>\n",
    "Sound\n",
    "clips can be thought of as one-dimensional arrays of intensity versus time.<br/>\n",
    "Text can be\n",
    "converted in various ways into numerical representations, perhaps binary digits rep‐\n",
    "resenting the frequency of certain words or pairs of words.<br/>\n",
    "<p>\n",
    "Now we look at the tools for handling such numerical arrays. NumPy and Pandas.<br/>\n",
    "\n",
    "\n",
    "\n"
   ]
  },
  {
   "cell_type": "code",
   "execution_count": null,
   "metadata": {
    "collapsed": true
   },
   "outputs": [],
   "source": []
  }
 ],
 "metadata": {
  "kernelspec": {
   "display_name": "Python 3",
   "language": "python",
   "name": "python3"
  },
  "language_info": {
   "codemirror_mode": {
    "name": "ipython",
    "version": 3
   },
   "file_extension": ".py",
   "mimetype": "text/x-python",
   "name": "python",
   "nbconvert_exporter": "python",
   "pygments_lexer": "ipython3",
   "version": "3.6.3"
  }
 },
 "nbformat": 4,
 "nbformat_minor": 2
}
